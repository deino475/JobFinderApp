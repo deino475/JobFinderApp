{
 "cells": [
  {
   "cell_type": "code",
   "execution_count": 1,
   "id": "078c5e2b",
   "metadata": {},
   "outputs": [],
   "source": [
    "#Import necessary libraries\n",
    "import pandas as pd \n",
    "from nltk.tokenize import word_tokenize\n",
    "from nltk.corpus import stopwords\n",
    "from nltk import download as nltk_download\n",
    "from gensim.models import Word2Vec\n",
    "import numpy as np\n",
    "from tensorflow.keras import Model\n",
    "from tensorflow.keras import Input\n",
    "from tensorflow.keras.preprocessing.text import Tokenizer\n",
    "from tensorflow.keras.layers import Bidirectional\n",
    "from tensorflow.keras.layers import Concatenate\n",
    "from tensorflow.keras.layers import Dense\n",
    "from tensorflow.keras.layers import Dropout\n",
    "from tensorflow.keras.layers import Embedding\n",
    "from tensorflow.keras.layers import Flatten\n",
    "from tensorflow.keras.layers import LSTM\n",
    "from tensorflow.keras.layers.experimental.preprocessing import TextVectorization\n",
    "from tensorflow.keras.losses import BinaryCrossentropy\n",
    "from tensorflow.keras.metrics import AUC\n",
    "from tensorflow.keras.metrics import BinaryAccuracy\n",
    "from tensorflow.keras.optimizers import Adam\n",
    "from tensorflow import string as tf_string\n",
    "import matplotlib.pyplot as plt"
   ]
  },
  {
   "cell_type": "code",
   "execution_count": 2,
   "id": "8829b1e3",
   "metadata": {
    "scrolled": true
   },
   "outputs": [],
   "source": [
    "#Load data into memory\n",
    "socs = pd.read_csv('data/soc.csv', encoding='cp1252')\n",
    "cips = pd.read_csv('data/cip.csv', encoding='cp1252')\n",
    "soc_to_cip = pd.read_csv('data/cip_to_soc.csv', encoding='cp1252')"
   ]
  },
  {
   "cell_type": "code",
   "execution_count": 3,
   "id": "abf21999",
   "metadata": {},
   "outputs": [],
   "source": [
    "#Creating a dictionary containing list of careers given CIP\n",
    "cip_dictionary = {}\n",
    "for index, row in soc_to_cip.iterrows():\n",
    "    if row['CIP Title'] not in cip_dictionary:\n",
    "        cip_dictionary[row['CIP Title']] = []\n",
    "    if row['SOC Title'] not in cip_dictionary[row['CIP Title']]:\n",
    "        cip_dictionary[row['CIP Title']].append(row['SOC Title'])\n"
   ]
  },
  {
   "cell_type": "code",
   "execution_count": 4,
   "id": "b0d223cf",
   "metadata": {},
   "outputs": [],
   "source": [
    "#Creating dataset for training\n",
    "dataset = []\n",
    "\n",
    "#Iterate through each soc code and cip code\n",
    "for x, row_1 in cips.iterrows():\n",
    "    for y, row_2 in socs.iterrows():\n",
    "        cip_desc = row_1['Definition']\n",
    "        soc_desc = row_2['SOC Definition']\n",
    "        \n",
    "        #Only pull in cip codes that \n",
    "        if row_1['Title'] in cip_dictionary:\n",
    "            #If the cip code name and the soc code name are in the crosswalk\n",
    "            if row_2['SOC Title'] in cip_dictionary[row_1['Title']]:\n",
    "                #Flag the pairing as a match\n",
    "                dataset.append([\n",
    "                    cip_desc,\n",
    "                    soc_desc,\n",
    "                    1\n",
    "                ])\n",
    "            else:\n",
    "                #Flag the pairing as not a match\n",
    "                dataset.append([\n",
    "                    cip_desc,\n",
    "                    soc_desc,\n",
    "                    0\n",
    "                ])\n",
    "\n",
    "#Turn matches into data frame\n",
    "df = pd.DataFrame(dataset, columns = ['CIP Desc','SOC Desc','Match'])"
   ]
  },
  {
   "cell_type": "code",
   "execution_count": 5,
   "id": "c125db75",
   "metadata": {},
   "outputs": [],
   "source": [
    "#Create dataset for creating word embeddings\n",
    "statements = []\n",
    "for index, row in cips.iterrows():\n",
    "    statements.append(row['Definition'])\n",
    "for index, row in socs.iterrows():\n",
    "    statements.append(row['SOC Definition'])\n",
    "\n",
    "#Tokenize text for word embedding model\n",
    "tokenizer = Tokenizer()\n",
    "tokenizer.fit_on_texts(statements)\n",
    "text_sequences = tokenizer.texts_to_sequences(statements)\n",
    "tokenized_statements = [[tokenizer.index_word[idx] for idx in seq] for seq in text_sequences]\n",
    "\n",
    "#Create word embeddings\n",
    "w2v_model = Word2Vec(sentences=tokenized_statements, vector_size=100, window=5, min_count=1, workers=4)\n",
    "w2v_model.save('word2vec.model')"
   ]
  },
  {
   "cell_type": "code",
   "execution_count": 6,
   "id": "95c2f723",
   "metadata": {},
   "outputs": [],
   "source": [
    "#Create pretrained embedding layer for model\n",
    "vocab = [word for word in tokenizer.word_index.keys()]\n",
    "vocab_size = len(vocab) + 2\n",
    "weight_matrix = np.zeros((vocab_size, w2v_model.vector_size))\n",
    "for i in range(len(vocab)):\n",
    "    weight_matrix[i + 1] = w2v_model.wv[vocab[i]]"
   ]
  },
  {
   "cell_type": "code",
   "execution_count": 7,
   "id": "cf72e541",
   "metadata": {},
   "outputs": [
    {
     "name": "stdout",
     "output_type": "stream",
     "text": [
      "Model: \"model\"\n",
      "__________________________________________________________________________________________________\n",
      "Layer (type)                    Output Shape         Param #     Connected to                     \n",
      "==================================================================================================\n",
      "major (InputLayer)              [(None, 1)]          0                                            \n",
      "__________________________________________________________________________________________________\n",
      "job (InputLayer)                [(None, 1)]          0                                            \n",
      "__________________________________________________________________________________________________\n",
      "text_vectorization (TextVectori (None, None)         0           major[0][0]                      \n",
      "__________________________________________________________________________________________________\n",
      "text_vectorization_1 (TextVecto (None, None)         0           job[0][0]                        \n",
      "__________________________________________________________________________________________________\n",
      "embedding (Embedding)           (None, None, 100)    934100      text_vectorization[0][0]         \n",
      "__________________________________________________________________________________________________\n",
      "embedding_1 (Embedding)         (None, None, 100)    934100      text_vectorization_1[0][0]       \n",
      "__________________________________________________________________________________________________\n",
      "bidirectional (Bidirectional)   (None, 40)           19360       embedding[0][0]                  \n",
      "__________________________________________________________________________________________________\n",
      "bidirectional_1 (Bidirectional) (None, 40)           19360       embedding_1[0][0]                \n",
      "__________________________________________________________________________________________________\n",
      "flatten (Flatten)               (None, 40)           0           bidirectional[0][0]              \n",
      "__________________________________________________________________________________________________\n",
      "flatten_1 (Flatten)             (None, 40)           0           bidirectional_1[0][0]            \n",
      "__________________________________________________________________________________________________\n",
      "concatenate (Concatenate)       (None, 80)           0           flatten[0][0]                    \n",
      "                                                                 flatten_1[0][0]                  \n",
      "__________________________________________________________________________________________________\n",
      "dense (Dense)                   (None, 1000)         81000       concatenate[0][0]                \n",
      "__________________________________________________________________________________________________\n",
      "dropout (Dropout)               (None, 1000)         0           dense[0][0]                      \n",
      "__________________________________________________________________________________________________\n",
      "dense_1 (Dense)                 (None, 1)            1001        dropout[0][0]                    \n",
      "==================================================================================================\n",
      "Total params: 1,988,921\n",
      "Trainable params: 120,721\n",
      "Non-trainable params: 1,868,200\n",
      "__________________________________________________________________________________________________\n"
     ]
    }
   ],
   "source": [
    "#Create keras siamese deep model\n",
    "\n",
    "##layers for the college major description\n",
    "x1_input = Input(shape=(1,), dtype=tf_string, name = 'major')\n",
    "x1 = TextVectorization(max_tokens = vocab_size + 2, pad_to_max_tokens = True, vocabulary = vocab)(x1_input)\n",
    "x1 = Embedding(vocab_size,100,weights = [weight_matrix],trainable = False)(x1)\n",
    "x1 = Bidirectional(LSTM(20))(x1)\n",
    "x1 = Flatten()(x1)\n",
    "\n",
    "##layers for the job description\n",
    "x2_input = Input(shape=(1,), dtype=tf_string, name = 'job')\n",
    "x2 = TextVectorization(max_tokens = vocab_size + 2, pad_to_max_tokens = True, vocabulary = vocab)(x2_input)\n",
    "x2 = Embedding(vocab_size,100,weights = [weight_matrix],trainable = False)(x2)\n",
    "x2 = Bidirectional(LSTM(20))(x2)\n",
    "x2 = Flatten()(x2)\n",
    "\n",
    "##concatenation of both layers\n",
    "c = Concatenate()([x1, x2])\n",
    "c = Dense(1000, activation = 'relu')(c)\n",
    "c = Dropout(0.1)(c)\n",
    "c = Dense(1, activation = 'sigmoid')(c)\n",
    "\n",
    "##summary of the model below\n",
    "keras_model = Model([x1_input, x2_input], c)\n",
    "keras_model.summary()"
   ]
  },
  {
   "cell_type": "code",
   "execution_count": 8,
   "id": "f4516a11",
   "metadata": {},
   "outputs": [],
   "source": [
    "#Splitting data for training and testing\n",
    "train_row = []\n",
    "\n",
    "#Retrieving all of the matches and non-matches\n",
    "matches = df[df['Match'] == 1]\n",
    "non_matches = df[df['Match'] == 0]\n",
    "\n",
    "#Adding all matches to data for training\n",
    "matches = matches.sample(frac = 1)\n",
    "for index, row in matches.iterrows():\n",
    "    train_row.append([\n",
    "        row['CIP Desc'],\n",
    "        row['SOC Desc'],\n",
    "        1\n",
    "    ])\n",
    "\n",
    "#Downsampling non-matches to address class imbalance\n",
    "non_matches = non_matches.sample(n = len(matches))\n",
    "for index, row in non_matches.iterrows():\n",
    "    train_row.append([\n",
    "        row['CIP Desc'],\n",
    "        row['SOC Desc'],\n",
    "        0\n",
    "    ])\n",
    "\n",
    "train_df = pd.DataFrame(train_row, columns = ['CIP Desc','SOC Desc','Match'])"
   ]
  },
  {
   "cell_type": "code",
   "execution_count": 9,
   "id": "0ba5387e",
   "metadata": {},
   "outputs": [],
   "source": [
    "#Compile the model with an Adam optimization and Binary Accuracy and AUC for metrics\n",
    "keras_model.compile(\n",
    "    optimizer = Adam(),\n",
    "    loss = BinaryCrossentropy(),\n",
    "    metrics = [\n",
    "        AUC(),\n",
    "        BinaryAccuracy()\n",
    "    ]\n",
    ")"
   ]
  },
  {
   "cell_type": "code",
   "execution_count": 10,
   "id": "ed8abc5e",
   "metadata": {},
   "outputs": [],
   "source": [
    "#Randomly shuffle data for training\n",
    "train_df = train_df.sample(frac = 1)\n",
    "\n",
    "#Create data for Keras functional API inputs\n",
    "train_major = np.array(train_df['CIP Desc'])\n",
    "train_job = np.array(train_df['SOC Desc'])\n",
    "train_y = np.array(train_df['Match'])\n"
   ]
  },
  {
   "cell_type": "code",
   "execution_count": 11,
   "id": "62a366f1",
   "metadata": {},
   "outputs": [
    {
     "name": "stdout",
     "output_type": "stream",
     "text": [
      "Epoch 1/50\n",
      "294/294 [==============================] - 13s 32ms/step - loss: 0.6234 - auc: 0.7043 - binary_accuracy: 0.6482 - val_loss: 0.6038 - val_auc: 0.7421 - val_binary_accuracy: 0.6613\n",
      "Epoch 2/50\n",
      "294/294 [==============================] - 8s 28ms/step - loss: 0.5650 - auc: 0.7748 - binary_accuracy: 0.6977 - val_loss: 0.5411 - val_auc: 0.7915 - val_binary_accuracy: 0.6928\n",
      "Epoch 3/50\n",
      "294/294 [==============================] - 8s 28ms/step - loss: 0.5318 - auc: 0.8036 - binary_accuracy: 0.7146 - val_loss: 0.5272 - val_auc: 0.8185 - val_binary_accuracy: 0.7196\n",
      "Epoch 4/50\n",
      "294/294 [==============================] - 8s 29ms/step - loss: 0.5041 - auc: 0.8277 - binary_accuracy: 0.7411 - val_loss: 0.4900 - val_auc: 0.8407 - val_binary_accuracy: 0.7481\n",
      "Epoch 5/50\n",
      "294/294 [==============================] - 8s 28ms/step - loss: 0.4895 - auc: 0.8389 - binary_accuracy: 0.7502 - val_loss: 0.4846 - val_auc: 0.8447 - val_binary_accuracy: 0.7523\n",
      "Epoch 6/50\n",
      "294/294 [==============================] - 8s 28ms/step - loss: 0.4723 - auc: 0.8532 - binary_accuracy: 0.7670 - val_loss: 0.4823 - val_auc: 0.8580 - val_binary_accuracy: 0.7464\n",
      "Epoch 7/50\n",
      "294/294 [==============================] - 8s 28ms/step - loss: 0.4575 - auc: 0.8633 - binary_accuracy: 0.7748 - val_loss: 0.4580 - val_auc: 0.8620 - val_binary_accuracy: 0.7626\n",
      "Epoch 8/50\n",
      "294/294 [==============================] - 8s 28ms/step - loss: 0.4455 - auc: 0.8710 - binary_accuracy: 0.7838 - val_loss: 0.4565 - val_auc: 0.8749 - val_binary_accuracy: 0.7762\n",
      "Epoch 9/50\n",
      "294/294 [==============================] - 8s 28ms/step - loss: 0.4336 - auc: 0.8793 - binary_accuracy: 0.7903 - val_loss: 0.4285 - val_auc: 0.8833 - val_binary_accuracy: 0.7877\n",
      "Epoch 10/50\n",
      "294/294 [==============================] - 8s 28ms/step - loss: 0.4223 - auc: 0.8854 - binary_accuracy: 0.7964 - val_loss: 0.4260 - val_auc: 0.8847 - val_binary_accuracy: 0.7991\n",
      "Epoch 11/50\n",
      "294/294 [==============================] - 8s 28ms/step - loss: 0.4129 - auc: 0.8909 - binary_accuracy: 0.8048 - val_loss: 0.4237 - val_auc: 0.8872 - val_binary_accuracy: 0.7987\n",
      "Epoch 12/50\n",
      "294/294 [==============================] - 8s 28ms/step - loss: 0.3999 - auc: 0.8987 - binary_accuracy: 0.8114 - val_loss: 0.4123 - val_auc: 0.8963 - val_binary_accuracy: 0.8030\n",
      "Epoch 13/50\n",
      "294/294 [==============================] - 8s 28ms/step - loss: 0.3944 - auc: 0.9014 - binary_accuracy: 0.8147 - val_loss: 0.4124 - val_auc: 0.8946 - val_binary_accuracy: 0.8017\n",
      "Epoch 14/50\n",
      "294/294 [==============================] - 8s 28ms/step - loss: 0.3799 - auc: 0.9088 - binary_accuracy: 0.8245 - val_loss: 0.4149 - val_auc: 0.8929 - val_binary_accuracy: 0.8081\n",
      "Epoch 15/50\n",
      "294/294 [==============================] - 8s 28ms/step - loss: 0.3766 - auc: 0.9102 - binary_accuracy: 0.8256 - val_loss: 0.4141 - val_auc: 0.8944 - val_binary_accuracy: 0.7987\n",
      "Epoch 16/50\n",
      "294/294 [==============================] - 8s 28ms/step - loss: 0.3660 - auc: 0.9155 - binary_accuracy: 0.8335 - val_loss: 0.4288 - val_auc: 0.8910 - val_binary_accuracy: 0.8038\n",
      "Epoch 17/50\n",
      "294/294 [==============================] - 8s 28ms/step - loss: 0.3581 - auc: 0.9193 - binary_accuracy: 0.8378 - val_loss: 0.4156 - val_auc: 0.8956 - val_binary_accuracy: 0.8034\n",
      "Epoch 18/50\n",
      "294/294 [==============================] - 8s 28ms/step - loss: 0.3520 - auc: 0.9222 - binary_accuracy: 0.8405 - val_loss: 0.3955 - val_auc: 0.9050 - val_binary_accuracy: 0.8166\n",
      "Epoch 19/50\n",
      "294/294 [==============================] - 8s 28ms/step - loss: 0.3433 - auc: 0.9263 - binary_accuracy: 0.8453 - val_loss: 0.4065 - val_auc: 0.8984 - val_binary_accuracy: 0.8145\n",
      "Epoch 20/50\n",
      "294/294 [==============================] - 8s 29ms/step - loss: 0.3368 - auc: 0.9292 - binary_accuracy: 0.8484 - val_loss: 0.4245 - val_auc: 0.8976 - val_binary_accuracy: 0.8145\n",
      "Epoch 21/50\n",
      "294/294 [==============================] - 8s 28ms/step - loss: 0.3325 - auc: 0.9307 - binary_accuracy: 0.8530 - val_loss: 0.3968 - val_auc: 0.9052 - val_binary_accuracy: 0.8132\n",
      "Epoch 22/50\n",
      "294/294 [==============================] - 8s 28ms/step - loss: 0.3268 - auc: 0.9330 - binary_accuracy: 0.8541 - val_loss: 0.3998 - val_auc: 0.9050 - val_binary_accuracy: 0.8136\n",
      "Epoch 23/50\n",
      "294/294 [==============================] - 8s 28ms/step - loss: 0.3194 - auc: 0.9357 - binary_accuracy: 0.8580 - val_loss: 0.3901 - val_auc: 0.9091 - val_binary_accuracy: 0.8217\n",
      "Epoch 24/50\n",
      "294/294 [==============================] - 8s 28ms/step - loss: 0.3122 - auc: 0.9390 - binary_accuracy: 0.8647 - val_loss: 0.3892 - val_auc: 0.9091 - val_binary_accuracy: 0.8247\n",
      "Epoch 25/50\n",
      "294/294 [==============================] - 8s 28ms/step - loss: 0.3009 - auc: 0.9437 - binary_accuracy: 0.8701 - val_loss: 0.4039 - val_auc: 0.9069 - val_binary_accuracy: 0.8072\n",
      "Epoch 26/50\n",
      "294/294 [==============================] - 8s 28ms/step - loss: 0.2983 - auc: 0.9443 - binary_accuracy: 0.8682 - val_loss: 0.3898 - val_auc: 0.9116 - val_binary_accuracy: 0.8221\n",
      "Epoch 27/50\n",
      "294/294 [==============================] - 8s 28ms/step - loss: 0.2935 - auc: 0.9460 - binary_accuracy: 0.8724 - val_loss: 0.3910 - val_auc: 0.9090 - val_binary_accuracy: 0.8281\n",
      "Epoch 28/50\n",
      "294/294 [==============================] - 8s 28ms/step - loss: 0.2859 - auc: 0.9488 - binary_accuracy: 0.8718 - val_loss: 0.3913 - val_auc: 0.9100 - val_binary_accuracy: 0.8238\n",
      "Epoch 29/50\n",
      "294/294 [==============================] - 8s 28ms/step - loss: 0.2835 - auc: 0.9498 - binary_accuracy: 0.8753 - val_loss: 0.4088 - val_auc: 0.9065 - val_binary_accuracy: 0.8209\n",
      "Epoch 30/50\n",
      "294/294 [==============================] - 8s 28ms/step - loss: 0.2777 - auc: 0.9521 - binary_accuracy: 0.8798 - val_loss: 0.4054 - val_auc: 0.9081 - val_binary_accuracy: 0.8191\n",
      "Epoch 31/50\n",
      "294/294 [==============================] - 8s 28ms/step - loss: 0.2739 - auc: 0.9532 - binary_accuracy: 0.8818 - val_loss: 0.4104 - val_auc: 0.9027 - val_binary_accuracy: 0.8149\n",
      "Epoch 32/50\n",
      "294/294 [==============================] - 8s 28ms/step - loss: 0.2668 - auc: 0.9558 - binary_accuracy: 0.8845 - val_loss: 0.4012 - val_auc: 0.9079 - val_binary_accuracy: 0.8200\n",
      "Epoch 33/50\n",
      "294/294 [==============================] - 8s 28ms/step - loss: 0.2576 - auc: 0.9586 - binary_accuracy: 0.8880 - val_loss: 0.4001 - val_auc: 0.9080 - val_binary_accuracy: 0.8260\n",
      "Epoch 34/50\n",
      "294/294 [==============================] - 8s 28ms/step - loss: 0.2555 - auc: 0.9592 - binary_accuracy: 0.8912 - val_loss: 0.4156 - val_auc: 0.9076 - val_binary_accuracy: 0.8238\n",
      "Epoch 35/50\n",
      "294/294 [==============================] - 8s 28ms/step - loss: 0.2520 - auc: 0.9607 - binary_accuracy: 0.8933 - val_loss: 0.4134 - val_auc: 0.9068 - val_binary_accuracy: 0.8226\n",
      "Epoch 36/50\n",
      "294/294 [==============================] - 8s 28ms/step - loss: 0.2427 - auc: 0.9636 - binary_accuracy: 0.8946 - val_loss: 0.4182 - val_auc: 0.9075 - val_binary_accuracy: 0.8238\n",
      "Epoch 37/50\n",
      "294/294 [==============================] - 8s 28ms/step - loss: 0.2406 - auc: 0.9640 - binary_accuracy: 0.8983 - val_loss: 0.4205 - val_auc: 0.9112 - val_binary_accuracy: 0.8289\n",
      "Epoch 38/50\n",
      "294/294 [==============================] - 8s 28ms/step - loss: 0.2371 - auc: 0.9651 - binary_accuracy: 0.8971 - val_loss: 0.4334 - val_auc: 0.9100 - val_binary_accuracy: 0.8226\n",
      "Epoch 39/50\n",
      "294/294 [==============================] - 8s 28ms/step - loss: 0.2324 - auc: 0.9664 - binary_accuracy: 0.9005 - val_loss: 0.4182 - val_auc: 0.9086 - val_binary_accuracy: 0.8166\n",
      "Epoch 40/50\n",
      "294/294 [==============================] - 8s 28ms/step - loss: 0.2230 - auc: 0.9694 - binary_accuracy: 0.9076 - val_loss: 0.4168 - val_auc: 0.9087 - val_binary_accuracy: 0.8247\n",
      "Epoch 41/50\n",
      "294/294 [==============================] - 8s 28ms/step - loss: 0.2165 - auc: 0.9712 - binary_accuracy: 0.9081 - val_loss: 0.4121 - val_auc: 0.9125 - val_binary_accuracy: 0.8264\n",
      "Epoch 42/50\n",
      "294/294 [==============================] - 8s 28ms/step - loss: 0.2155 - auc: 0.9711 - binary_accuracy: 0.9077 - val_loss: 0.4351 - val_auc: 0.9096 - val_binary_accuracy: 0.8251\n",
      "Epoch 43/50\n",
      "294/294 [==============================] - 8s 28ms/step - loss: 0.2089 - auc: 0.9730 - binary_accuracy: 0.9130 - val_loss: 0.4201 - val_auc: 0.9107 - val_binary_accuracy: 0.8272\n",
      "Epoch 44/50\n"
     ]
    },
    {
     "name": "stdout",
     "output_type": "stream",
     "text": [
      "294/294 [==============================] - 8s 28ms/step - loss: 0.2084 - auc: 0.9733 - binary_accuracy: 0.9147 - val_loss: 0.4326 - val_auc: 0.9085 - val_binary_accuracy: 0.8238\n",
      "Epoch 45/50\n",
      "294/294 [==============================] - 8s 28ms/step - loss: 0.2066 - auc: 0.9735 - binary_accuracy: 0.9135 - val_loss: 0.4352 - val_auc: 0.9112 - val_binary_accuracy: 0.8226\n",
      "Epoch 46/50\n",
      "294/294 [==============================] - 8s 28ms/step - loss: 0.1950 - auc: 0.9766 - binary_accuracy: 0.9204 - val_loss: 0.4285 - val_auc: 0.9053 - val_binary_accuracy: 0.8221\n",
      "Epoch 47/50\n",
      "294/294 [==============================] - 8s 28ms/step - loss: 0.1936 - auc: 0.9769 - binary_accuracy: 0.9209 - val_loss: 0.4329 - val_auc: 0.9080 - val_binary_accuracy: 0.8226\n",
      "Epoch 48/50\n",
      "294/294 [==============================] - 8s 28ms/step - loss: 0.1866 - auc: 0.9789 - binary_accuracy: 0.9246 - val_loss: 0.4425 - val_auc: 0.9116 - val_binary_accuracy: 0.8260\n",
      "Epoch 49/50\n",
      "294/294 [==============================] - 8s 28ms/step - loss: 0.1842 - auc: 0.9791 - binary_accuracy: 0.9253 - val_loss: 0.4370 - val_auc: 0.9078 - val_binary_accuracy: 0.8251\n",
      "Epoch 50/50\n",
      "294/294 [==============================] - 8s 28ms/step - loss: 0.1806 - auc: 0.9799 - binary_accuracy: 0.9296 - val_loss: 0.4444 - val_auc: 0.9067 - val_binary_accuracy: 0.8196\n"
     ]
    }
   ],
   "source": [
    "#Train model with a 20% split for validation for 50 epochs\n",
    "history = keras_model.fit(\n",
    "    [train_major, train_job],\n",
    "    train_y,\n",
    "    validation_split = 0.2,\n",
    "    epochs = 50,\n",
    "    batch_size = 32\n",
    ")"
   ]
  },
  {
   "cell_type": "code",
   "execution_count": 12,
   "id": "3ffa2179",
   "metadata": {},
   "outputs": [
    {
     "data": {
      "image/png": "[encoded data removed]",
      "text/plain": [
       "<Figure size 432x288 with 1 Axes>"
      ]
     },
     "metadata": {
      "needs_background": "light"
     },
     "output_type": "display_data"
    }
   ],
   "source": [
    "# summarize history for accuracy\n",
    "plt.plot(history.history['binary_accuracy'])\n",
    "plt.plot(history.history['val_binary_accuracy'])\n",
    "plt.title('Model Accuracy')\n",
    "plt.ylabel('Accuracy')\n",
    "plt.xlabel('Epoch')\n",
    "plt.legend(['Train', 'Test'], loc='upper left')\n",
    "plt.show()"
   ]
  },
  {
   "cell_type": "code",
   "execution_count": 13,
   "id": "6aa53c75",
   "metadata": {},
   "outputs": [
    {
     "data": {
      "image/png": "[encoded data removed]",
      "text/plain": [
       "<Figure size 432x288 with 1 Axes>"
      ]
     },
     "metadata": {
      "needs_background": "light"
     },
     "output_type": "display_data"
    }
   ],
   "source": [
    "# summarize history for AUC\n",
    "plt.plot(history.history['auc'])\n",
    "plt.plot(history.history['val_auc'])\n",
    "plt.title('Model AUC')\n",
    "plt.ylabel('AUC')\n",
    "plt.xlabel('Epoch')\n",
    "plt.legend(['Train', 'Test'], loc='upper left')\n",
    "plt.show()"
   ]
  },
  {
   "cell_type": "code",
   "execution_count": 14,
   "id": "a265c3d9",
   "metadata": {},
   "outputs": [
    {
     "data": {
      "image/png": "[encoded data removed]",
      "text/plain": [
       "<Figure size 432x288 with 1 Axes>"
      ]
     },
     "metadata": {
      "needs_background": "light"
     },
     "output_type": "display_data"
    }
   ],
   "source": [
    "# summarize history for loss\n",
    "plt.plot(history.history['loss'])\n",
    "plt.plot(history.history['val_loss'])\n",
    "plt.title('Model Loss')\n",
    "plt.ylabel('Loss')\n",
    "plt.xlabel('Epoch')\n",
    "plt.legend(['Train', 'Test'], loc='upper left')\n",
    "plt.show()"
   ]
  },
  {
   "cell_type": "code",
   "execution_count": 18,
   "id": "e1f49d4e",
   "metadata": {},
   "outputs": [
    {
     "name": "stderr",
     "output_type": "stream",
     "text": [
      "WARNING:absl:Found untraced functions such as lstm_cell_1_layer_call_fn, lstm_cell_1_layer_call_and_return_conditional_losses, lstm_cell_2_layer_call_fn, lstm_cell_2_layer_call_and_return_conditional_losses, lstm_cell_4_layer_call_fn while saving (showing 5 of 20). These functions will not be directly callable after loading.\n"
     ]
    },
    {
     "name": "stdout",
     "output_type": "stream",
     "text": [
      "INFO:tensorflow:Assets written to: keras_model\\assets\n"
     ]
    },
    {
     "name": "stderr",
     "output_type": "stream",
     "text": [
      "INFO:tensorflow:Assets written to: keras_model\\assets\n"
     ]
    }
   ],
   "source": [
    "#Save Keras model\n",
    "keras_model.save('keras_model')"
   ]
  },
  {
   "cell_type": "code",
   "execution_count": null,
   "id": "c4b30ef1",
   "metadata": {},
   "outputs": [],
   "source": []
  }
 ],
 "metadata": {
  "kernelspec": {
   "display_name": "Python 3 (ipykernel)",
   "language": "python",
   "name": "python3"
  },
  "language_info": {
   "codemirror_mode": {
    "name": "ipython",
    "version": 3
   },
   "file_extension": ".py",
   "mimetype": "text/x-python",
   "name": "python",
   "nbconvert_exporter": "python",
   "pygments_lexer": "ipython3",
   "version": "3.8.8"
  }
 },
 "nbformat": 4,
 "nbformat_minor": 5
}
